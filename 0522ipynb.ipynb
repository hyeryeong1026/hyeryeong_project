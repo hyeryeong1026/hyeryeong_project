{
  "cells": [
    {
      "cell_type": "markdown",
      "metadata": {
        "id": "view-in-github",
        "colab_type": "text"
      },
      "source": [
        "<a href=\"https://colab.research.google.com/github/hyeryeong1026/hyeryeong_project/blob/main/0522ipynb.ipynb\" target=\"_parent\"><img src=\"https://colab.research.google.com/assets/colab-badge.svg\" alt=\"Open In Colab\"/></a>"
      ]
    },
    {
      "cell_type": "code",
      "execution_count": 1,
      "metadata": {
        "colab": {
          "base_uri": "https://localhost:8080/"
        },
        "id": "5KPeTl3bib5L",
        "outputId": "5a4c5864-1460-4671-fd88-3919c478df28"
      },
      "outputs": [
        {
          "output_type": "stream",
          "name": "stdout",
          "text": [
            "Mounted at /content/drive\n"
          ]
        }
      ],
      "source": [
        "from google.colab import drive\n",
        "drive.mount('/content/drive')"
      ]
    },
    {
      "cell_type": "code",
      "execution_count": 2,
      "metadata": {
        "colab": {
          "base_uri": "https://localhost:8080/"
        },
        "id": "4AJQSncHjDan",
        "outputId": "c59d98c9-4bf1-4c66-b3de-9f47069b0976"
      },
      "outputs": [
        {
          "output_type": "stream",
          "name": "stdout",
          "text": [
            "Cloning into 'colab-biolab'...\n",
            "remote: Enumerating objects: 76, done.\u001b[K\n",
            "remote: Counting objects: 100% (76/76), done.\u001b[K\n",
            "remote: Compressing objects: 100% (47/47), done.\u001b[K\n",
            "remote: Total 76 (delta 26), reused 59 (delta 15), pack-reused 0 (from 0)\u001b[K\n",
            "Receiving objects: 100% (76/76), 318.16 KiB | 11.78 MiB/s, done.\n",
            "Resolving deltas: 100% (26/26), done.\n",
            "./\n",
            "./root/\n",
            "./root/.profile\n",
            "./root/.vimrc\n",
            "./root/.tmux.conf\n",
            "./root/.bin.priority/\n",
            "./root/.bin.priority/pip2\n",
            "./root/.bin.priority/pip3\n",
            "./root/.bin.priority/pip\n",
            "./root/.bashrc.biolab\n",
            "./root/.condarc\n",
            "--2025-05-22 00:40:34--  https://repo.anaconda.com/miniconda/Miniconda3-latest-Linux-x86_64.sh\n",
            "Resolving repo.anaconda.com (repo.anaconda.com)... 104.16.191.158, 104.16.32.241, 2606:4700::6810:20f1, ...\n",
            "Connecting to repo.anaconda.com (repo.anaconda.com)|104.16.191.158|:443... connected.\n",
            "HTTP request sent, awaiting response... 200 OK\n",
            "Length: 155472915 (148M) [application/octet-stream]\n",
            "Saving to: ‘miniconda3.sh’\n",
            "\n",
            "miniconda3.sh       100%[===================>] 148.27M   217MB/s    in 0.7s    \n",
            "\n",
            "2025-05-22 00:40:34 (217 MB/s) - ‘miniconda3.sh’ saved [155472915/155472915]\n",
            "\n",
            "PREFIX=/root/conda\n",
            "Unpacking payload ...\n",
            "entry_point.py:256: DeprecationWarning: Python 3.14 will, by default, filter extracted tar archives and reject files or modify their metadata. Use the filter argument to control this behavior.\n",
            "entry_point.py:256: DeprecationWarning: Python 3.14 will, by default, filter extracted tar archives and reject files or modify their metadata. Use the filter argument to control this behavior.\n",
            "\n",
            "Installing base environment...\n",
            "\n",
            "Preparing transaction: ...working... done\n",
            "Executing transaction: ...working... done\n",
            "entry_point.py:256: DeprecationWarning: Python 3.14 will, by default, filter extracted tar archives and reject files or modify their metadata. Use the filter argument to control this behavior.\n",
            "installation finished.\n",
            "WARNING:\n",
            "    You currently have a PYTHONPATH environment variable set. This may cause\n",
            "    unexpected behavior when running the Python interpreter in Miniconda3.\n",
            "    For best results, please verify that your PYTHONPATH only points to\n",
            "    directories of packages that are compatible with the Python interpreter\n",
            "    in Miniconda3: /root/conda\n",
            "Activated conda environment `lab'!\n"
          ]
        }
      ],
      "source": [
        "!git clone https://github.com/hyeshik/colab-biolab.git\n",
        "!cd colab-biolab && bash tools/setup.sh\n",
        "exec(open('colab-biolab/tools/activate_conda.py').read())"
      ]
    },
    {
      "cell_type": "code",
      "execution_count": 3,
      "metadata": {
        "colab": {
          "base_uri": "https://localhost:8080/"
        },
        "id": "05wyfxGnjFnI",
        "outputId": "b4e7572e-013f-4f8e-9717-f23e4dec40c4"
      },
      "outputs": [
        {
          "output_type": "stream",
          "name": "stdout",
          "text": [
            "total 7162852\n",
            "-r-------- 1 root root 1370036258 Apr 27  2023 CLIP-35L33G.bam\n",
            "-r-------- 1 root root    3118336 Apr 27  2023 CLIP-35L33G.bam.bai\n",
            "-r-------- 1 root root       7113 May 11  2023 CLIP-let7g.bam\n",
            "-r-------- 1 root root      14561 May 11  2023 CLIP-let7g-gene.pileup\n",
            "-r-------- 1 root root    2685065 May 11  2023 CLIP-let7g.pileup\n",
            "-r-------- 1 root root  883334756 Apr 27  2023 gencode.gtf\n",
            "-r-------- 1 root root   24065406 Apr 27  2023 read-counts.txt\n",
            "-r-------- 1 root root        751 Apr 27  2023 read-counts.txt.summary\n",
            "-r-------- 1 root root 1003658801 Apr 27  2023 RNA-control.bam\n",
            "-r-------- 1 root root    2276104 Apr 27  2023 RNA-control.bam.bai\n",
            "-r-------- 1 root root 1260991122 Apr 27  2023 RNA-siLin28a.bam\n",
            "-r-------- 1 root root    2710744 Apr 27  2023 RNA-siLin28a.bam.bai\n",
            "-r-------- 1 root root  981684502 Apr 27  2023 RNA-siLuc.bam\n",
            "-r-------- 1 root root    2606104 Apr 27  2023 RNA-siLuc.bam.bai\n",
            "-r-------- 1 root root  737352902 Apr 27  2023 RPF-siLin28a.bam\n",
            "-r-------- 1 root root    2482768 Apr 27  2023 RPF-siLin28a.bam.bai\n",
            "-r-------- 1 root root 1055123479 Apr 27  2023 RPF-siLuc.bam\n",
            "-r-------- 1 root root    2605912 Apr 27  2023 RPF-siLuc.bam.bai\n"
          ]
        }
      ],
      "source": [
        "!ls -al /content/drive/MyDrive/binfo1-datapack1/"
      ]
    },
    {
      "cell_type": "code",
      "source": [
        "!md5sum drive/MyDrive/binfo1-datapack1/*"
      ],
      "metadata": {
        "colab": {
          "base_uri": "https://localhost:8080/"
        },
        "id": "79fZM8FGLFlX",
        "outputId": "28cf6645-8f03-4fd8-d90b-1ded73e5123f"
      },
      "execution_count": 4,
      "outputs": [
        {
          "output_type": "stream",
          "name": "stdout",
          "text": [
            "140aaf30bcb9276cc716f8699f04ddd6  drive/MyDrive/binfo1-datapack1/CLIP-35L33G.bam\n",
            "f1b3336ed7e2f97d562dcc71641251bd  drive/MyDrive/binfo1-datapack1/CLIP-35L33G.bam.bai\n",
            "5d0265965487c33475f48869fc9df2d2  drive/MyDrive/binfo1-datapack1/CLIP-let7g.bam\n",
            "4ea14471c5d4bf9ab1fd91b9a5b2193c  drive/MyDrive/binfo1-datapack1/CLIP-let7g-gene.pileup\n",
            "a53f66a5575d4ac2d3b4c44af576d44d  drive/MyDrive/binfo1-datapack1/CLIP-let7g.pileup\n",
            "d54d428f5872030c4ffc43058709b896  drive/MyDrive/binfo1-datapack1/gencode.gtf\n",
            "2698e6c8e30005ebc0593d3b9e9b5c58  drive/MyDrive/binfo1-datapack1/read-counts.txt\n",
            "7c9528c08ed2f1ae6e2de599db1aa8fb  drive/MyDrive/binfo1-datapack1/read-counts.txt.summary\n",
            "328883a73d507eafbf5b60bd6b906201  drive/MyDrive/binfo1-datapack1/RNA-control.bam\n",
            "02073818e2f398a73c3b76e5169de1ca  drive/MyDrive/binfo1-datapack1/RNA-control.bam.bai\n",
            "b09550d09d6c2a4ce27f0226f426fdb1  drive/MyDrive/binfo1-datapack1/RNA-siLin28a.bam\n",
            "fef112c727244060ea62d3f2564a07f6  drive/MyDrive/binfo1-datapack1/RNA-siLin28a.bam.bai\n",
            "28bbd0c47d725669340c784f1b772c01  drive/MyDrive/binfo1-datapack1/RNA-siLuc.bam\n",
            "43590fdc4d81905c0432e0d1cb8cfd5b  drive/MyDrive/binfo1-datapack1/RNA-siLuc.bam.bai\n",
            "5c08a9297307bc83259e658c4474f0cc  drive/MyDrive/binfo1-datapack1/RPF-siLin28a.bam\n",
            "a1bb3e29be412dfd7fd8d16b1b1acc4c  drive/MyDrive/binfo1-datapack1/RPF-siLin28a.bam.bai\n",
            "f2eebf50943024d0116c9cd3e744c707  drive/MyDrive/binfo1-datapack1/RPF-siLuc.bam\n",
            "dc24f69e8f571fc8be30f28ce5b84fcd  drive/MyDrive/binfo1-datapack1/RPF-siLuc.bam.bai\n"
          ]
        }
      ]
    },
    {
      "cell_type": "code",
      "source": [
        "!ls -al drive/MyDrive/binfo*"
      ],
      "metadata": {
        "colab": {
          "base_uri": "https://localhost:8080/"
        },
        "id": "pOG87Z-ALH4g",
        "outputId": "5c9bfa2e-bdb9-4e47-be56-baf8ee7c695a"
      },
      "execution_count": 5,
      "outputs": [
        {
          "output_type": "stream",
          "name": "stdout",
          "text": [
            "lrw------- 1 root root    0 May 13 04:25 drive/MyDrive/binfo1-datapack1 -> /content/drive/.shortcut-targets-by-id/1QBJednh-C7A17PFOlpZHBKyDmBvd6klh/binfo1-datapack1\n",
            "\n",
            "drive/MyDrive/binfo1-work:\n",
            "total 8712776\n",
            "-rw------- 1 root root 1370036258 May 19 06:19 CLIP-35L33G.bam\n",
            "-rw------- 1 root root    3118336 May 19 06:19 CLIP-35L33G.bam.bai\n",
            "-rw------- 1 root root       1430 May 19 06:32 CLIP-let7d.bam\n",
            "-rw------- 1 root root      24264 May 19 06:32 CLIP-let7d.bam.bai\n",
            "-rw------- 1 root root       2645 May 19 06:33 CLIP-let7d.entropy.bedgraph\n",
            "-rw------- 1 root root       2100 May 19 06:32 CLIP-let7d-gene.pileup\n",
            "-rw------- 1 root root    1406781 May 19 06:32 CLIP-let7d.pileup\n",
            "-rw------- 1 root root       1431 May 19 06:31 CLIP-let7f1.bam\n",
            "-rw------- 1 root root      24264 May 19 06:31 CLIP-let7f1.bam.bai\n",
            "-rw------- 1 root root       2646 May 19 06:32 CLIP-let7f1.entropy.bedgraph\n",
            "-rw------- 1 root root       2100 May 19 06:31 CLIP-let7f1-gene.pileup\n",
            "-rw------- 1 root root    1406781 May 19 06:31 CLIP-let7f1.pileup\n",
            "-rw------- 1 root root       7064 May 19 06:31 CLIP-let7g.bam\n",
            "-rw------- 1 root root       2897 May 19 06:26 CLIP-let7g.entropy.bedgraph\n",
            "-rw------- 1 root root      14561 May 19 06:31 CLIP-let7g-gene.pileup\n",
            "-rw------- 1 root root    2685065 May 19 06:31 CLIP-let7g.pileup\n",
            "drwx------ 2 root root       4096 May  7 12:38 colab-biolab\n",
            "-rw------- 1 root root  554373659 May 15 00:43 filtered-RPF-siLuc.bam\n",
            "-rw------- 1 root root   28109361 May 15 00:43 fivepcounts-filtered-RPF-siLuc.txt\n",
            "-rw------- 1 root root   45957833 May 15 00:43 fivepcounts-RPF-siLuc.bed\n",
            "-rw------- 1 root root     855103 May 15 00:42 gencode-exons-containing-startcodon.bed\n",
            "-rw------- 1 root root  883334756 May 19 06:20 gencode.gtf\n",
            "-rw------- 1 root root   28359457 May  8 04:57 gencode.gtf.gz\n",
            "-rw------- 1 root root   26842797 May 15 00:42 gencode-plusexon.gtf\n",
            "-rw------- 1 root root    1063832 May 15 00:42 gencode-start.gtf\n",
            "-rw------- 1 root root  898672434 May 12 01:28 gencode.vM29.annotation.gtf\n",
            "-rw------- 1 root root   24065406 May 19 06:20 read-counts.txt\n",
            "-rw------- 1 root root        751 May 19 06:20 read-counts.txt.summary\n",
            "-rw------- 1 root root 1003658801 May 19 06:23 RNA-control.bam\n",
            "-rw------- 1 root root    2276104 May 19 06:24 RNA-control.bam.bai\n",
            "-rw------- 1 root root 1260991122 May 19 06:26 RNA-siLin28a.bam\n",
            "-rw------- 1 root root    2710744 May 19 06:26 RNA-siLin28a.bam.bai\n",
            "-rw------- 1 root root  981684502 May 19 06:27 RNA-siLuc.bam\n",
            "-rw------- 1 root root    2606104 May 19 06:27 RNA-siLuc.bam.bai\n",
            "-rw------- 1 root root  737352902 May 19 06:28 RPF-siLin28a.bam\n",
            "-rw------- 1 root root    2482768 May 19 06:28 RPF-siLin28a.bam.bai\n",
            "-rw------- 1 root root 1055123479 May 19 06:31 RPF-siLuc.bam\n",
            "-rw------- 1 root root    2605912 May 19 06:31 RPF-siLuc.bam.bai\n"
          ]
        }
      ]
    },
    {
      "cell_type": "code",
      "execution_count": null,
      "metadata": {
        "colab": {
          "base_uri": "https://localhost:8080/"
        },
        "id": "XS6p_Pdx5KJE",
        "outputId": "c2c7ee59-6cb0-4ac2-fc79-491a5046955a"
      },
      "outputs": [
        {
          "metadata": {
            "tags": null
          },
          "name": "stdout",
          "output_type": "stream",
          "text": [
            "/content/drive/MyDrive/binfo1-work\n"
          ]
        }
      ],
      "source": [
        "!mkdir -p /content/drive/MyDrive/binfo1-work\n",
        "%cd /content/drive/MyDrive/binfo1-work\n",
        "!cp -f /content/drive/MyDrive/binfo1-datapack1/*.* /content/drive/MyDrive/binfo1-work/"
      ]
    },
    {
      "cell_type": "code",
      "execution_count": null,
      "metadata": {
        "id": "pHVhexg1jPGi"
      },
      "outputs": [],
      "source": [
        "!conda install -y bedtools bioawk samtools"
      ]
    },
    {
      "cell_type": "code",
      "execution_count": null,
      "metadata": {
        "id": "a_hHEU7Poyfr"
      },
      "outputs": [],
      "source": [
        "%cd /content/drive/MyDrive/binfo1-work/"
      ]
    },
    {
      "cell_type": "code",
      "execution_count": null,
      "metadata": {
        "id": "LK3kDbY8o202"
      },
      "outputs": [],
      "source": [
        "!grep -i mirlet7g ../binfo1-datapack1/gencode.gtf"
      ]
    },
    {
      "cell_type": "code",
      "execution_count": null,
      "metadata": {
        "id": "rkVKrzyTo3Y-"
      },
      "outputs": [],
      "source": [
        "!samtools view -b -o CLIP-let7g.bam ../binfo1-datapack1/CLIP-35L33G.bam chr9:106056039-106056126\n",
        "!samtools view CLIP-let7g.bam | wc -l"
      ]
    },
    {
      "cell_type": "code",
      "source": [
        "!samtools mpileup CLIP-let7g.bam > CLIP-let7g.pileup\n",
        "!wc -l CLIP-let7g.pileup"
      ],
      "metadata": {
        "id": "zaeW8JLZNijC"
      },
      "execution_count": null,
      "outputs": []
    },
    {
      "cell_type": "code",
      "source": [
        "!head CLIP-let7g.pileup"
      ],
      "metadata": {
        "id": "2ipc_3vFNkwR"
      },
      "execution_count": null,
      "outputs": []
    },
    {
      "cell_type": "code",
      "source": [
        "!awk '$2 >= 106056039 && $2 <= 106056126 { print $0; }' CLIP-let7g.pileup > CLIP-let7g-gene.pileup\n",
        "!tail CLIP-let7g-gene.pileup"
      ],
      "metadata": {
        "id": "PRBk2IEcNn2T"
      },
      "execution_count": null,
      "outputs": []
    },
    {
      "cell_type": "code",
      "source": [
        "import pandas as pd\n",
        "\n",
        "pileup = pd.read_csv('CLIP-let7g-gene.pileup', sep='\\t', names=['chrom', 'pos', '_ref', 'count', 'basereads', 'quals'])\n",
        "pileup.tail()"
      ],
      "metadata": {
        "id": "tk4RTdi1NqP3"
      },
      "execution_count": null,
      "outputs": []
    },
    {
      "cell_type": "code",
      "source": [
        "import re\n",
        "toremove = re.compile('[<>$*#^]')\n",
        "pileup['matches'] = pileup['basereads'].apply(lambda x: toremove.sub('', x))"
      ],
      "metadata": {
        "id": "EKB7jMKxNt2I"
      },
      "execution_count": null,
      "outputs": []
    },
    {
      "cell_type": "code",
      "source": [
        "pileup[['chrom', 'pos', 'matches']]"
      ],
      "metadata": {
        "id": "x-7tYqlANwQs"
      },
      "execution_count": null,
      "outputs": []
    },
    {
      "cell_type": "code",
      "source": [
        "pileup[pileup['pos'] == 106056094].iloc[0]['matches']"
      ],
      "metadata": {
        "id": "rAOsdiVMNxgv"
      },
      "execution_count": null,
      "outputs": []
    },
    {
      "cell_type": "code",
      "source": [
        "import pandas as pd\n",
        "import re\n",
        "import math\n",
        "\n",
        "# Pileup 파일 불러오기\n",
        "pileup = pd.read_csv('CLIP-let7g-gene.pileup', sep='\\t', names=['chrom', 'pos', '_ref', 'count', 'basereads', 'quals'])\n",
        "\n",
        "# 불필요 기호 제거\n",
        "toremove = re.compile(r'[<>*$#^]')\n",
        "pileup['clean_bases'] = pileup['basereads'].apply(lambda x: toremove.sub('', x))\n",
        "\n",
        "# 각 염기(A,T,C,G)의 개수 세기\n",
        "def count_bases(s):\n",
        "    s = s.upper()\n",
        "    counts = {'A':0, 'T':0, 'C':0, 'G':0}\n",
        "    for c in s:\n",
        "        if c == '.' or c == ',':\n",
        "            counts['match'] = counts.get('match', 0) + 1  # reference와 일치\n",
        "        elif c in counts:\n",
        "            counts[c] += 1\n",
        "    return counts\n",
        "\n",
        "counts_df = pd.DataFrame(pileup['clean_bases'].apply(count_bases).tolist())\n",
        "counts_df['pos'] = pileup['pos']\n",
        "\n",
        "# Shannon entropy 계산 함수\n",
        "def shannon(row):\n",
        "    total = sum([row[b] for b in 'ATCG'])\n",
        "    if total == 0:\n",
        "        return 0\n",
        "    entropy = 0\n",
        "    for base in 'ATCG':\n",
        "        p = row[base] / total\n",
        "        if p > 0:\n",
        "            entropy -= p * math.log2(p)\n",
        "    return entropy\n",
        "\n",
        "counts_df['entropy'] = counts_df.apply(shannon, axis=1)\n"
      ],
      "metadata": {
        "id": "JW43tSTNNzQ-"
      },
      "execution_count": null,
      "outputs": []
    },
    {
      "cell_type": "code",
      "source": [
        "with open('CLIP-let7g.entropy.bedgraph', 'w') as f:\n",
        "    f.write('track type=bedGraph name=\"Entropy let7g\" description=\"Shannon entropy from CLIP\"\\n')\n",
        "    for _, row in counts_df.iterrows():\n",
        "        chrom = 'chr9'\n",
        "        start = int(row['pos']) - 1\n",
        "        end = int(row['pos'])\n",
        "        value = row['entropy']\n",
        "        f.write(f'{chrom}\\t{start}\\t{end}\\t{value:.4f}\\n')\n"
      ],
      "metadata": {
        "id": "Ql0uMMlxOG49"
      },
      "execution_count": null,
      "outputs": []
    },
    {
      "cell_type": "code",
      "source": [
        "from google.colab import files\n",
        "files.download('CLIP-let7g.entropy.bedgraph')\n"
      ],
      "metadata": {
        "id": "1PTi56QMOJkR"
      },
      "execution_count": null,
      "outputs": []
    },
    {
      "cell_type": "code",
      "source": [
        "!grep -i mirlet7f-1 ../binfo1-datapack1/gencode.gtf"
      ],
      "metadata": {
        "id": "WnlQe74JPV7n"
      },
      "execution_count": null,
      "outputs": []
    },
    {
      "cell_type": "code",
      "source": [
        "!samtools view -b -o CLIP-let7f1.bam ../binfo1-datapack1/CLIP-35L33G.bam chr13:48497850-48497933\n",
        "!samtools index CLIP-let7f1.bam"
      ],
      "metadata": {
        "id": "jUH16Qx0PY-V"
      },
      "execution_count": null,
      "outputs": []
    },
    {
      "cell_type": "code",
      "source": [
        "!samtools mpileup CLIP-let7f1.bam > CLIP-let7f1.pileup"
      ],
      "metadata": {
        "id": "6_FsSvhUPbMQ"
      },
      "execution_count": null,
      "outputs": []
    },
    {
      "cell_type": "code",
      "source": [
        "!awk '$2 >= 48497850 && $2 <= 48497933 { print $0; }' CLIP-let7f1.pileup > CLIP-let7f1-gene.pileup"
      ],
      "metadata": {
        "id": "pjuGHKxtPeNS"
      },
      "execution_count": null,
      "outputs": []
    },
    {
      "cell_type": "code",
      "source": [
        "import pandas as pd\n",
        "import re\n",
        "import math\n",
        "\n",
        "pileup = pd.read_csv('CLIP-let7f1-gene.pileup', sep='\\t', names=['chrom', 'pos', '_ref', 'count', 'basereads', 'quals'])\n",
        "toremove = re.compile(r'[<>*$#^]')\n",
        "pileup['clean_bases'] = pileup['basereads'].apply(lambda x: toremove.sub('', x))\n",
        "\n",
        "def count_bases(s):\n",
        "    s = s.upper()\n",
        "    counts = {'A':0, 'T':0, 'C':0, 'G':0}\n",
        "    for c in s:\n",
        "        if c in '.,':\n",
        "            counts['match'] = counts.get('match', 0) + 1\n",
        "        elif c in counts:\n",
        "            counts[c] += 1\n",
        "    return counts\n",
        "\n",
        "counts_df = pd.DataFrame(pileup['clean_bases'].apply(count_bases).tolist())\n",
        "counts_df['pos'] = pileup['pos']\n",
        "\n",
        "def shannon(row):\n",
        "    total = sum([row[b] for b in 'ATCG'])\n",
        "    if total == 0:\n",
        "        return 0\n",
        "    entropy = 0\n",
        "    for b in 'ATCG':\n",
        "        p = row[b] / total\n",
        "        if p > 0:\n",
        "            entropy -= p * math.log2(p)\n",
        "    return entropy\n",
        "\n",
        "counts_df['entropy'] = counts_df.apply(shannon, axis=1)\n",
        "\n",
        "with open('CLIP-let7f1.entropy.bedgraph', 'w') as f:\n",
        "    f.write('track type=bedGraph name=\"Entropy let7f1\"\\n')\n",
        "    for _, row in counts_df.iterrows():\n",
        "        chrom = 'chr13'\n",
        "        f.write(f'{chrom}\\t{int(row[\"pos\"])-1}\\t{int(row[\"pos\"])}\\t{row[\"entropy\"]:.4f}\\n')\n"
      ],
      "metadata": {
        "id": "DW-x5Tm7PhN-"
      },
      "execution_count": null,
      "outputs": []
    },
    {
      "cell_type": "code",
      "source": [
        "from google.colab import files\n",
        "files.download('CLIP-let7f1.entropy.bedgraph')"
      ],
      "metadata": {
        "id": "B91a6-XMPjlj"
      },
      "execution_count": null,
      "outputs": []
    },
    {
      "cell_type": "code",
      "source": [
        "!grep -i mirlet7d ../binfo1-datapack1/gencode.gtf"
      ],
      "metadata": {
        "id": "EBg4WVJyPlY7"
      },
      "execution_count": null,
      "outputs": []
    },
    {
      "cell_type": "code",
      "source": [
        "!samtools view -b -o CLIP-let7d.bam ../binfo1-datapack1/CLIP-35L33G.bam chr13:48499160-48499243\n",
        "!samtools index CLIP-let7d.bam"
      ],
      "metadata": {
        "id": "wFLXUGUpPpP2"
      },
      "execution_count": null,
      "outputs": []
    },
    {
      "cell_type": "code",
      "source": [
        "!samtools mpileup CLIP-let7d.bam > CLIP-let7d.pileup"
      ],
      "metadata": {
        "id": "gfjs6mXvPqGS"
      },
      "execution_count": null,
      "outputs": []
    },
    {
      "cell_type": "code",
      "source": [
        "!awk '$2 >= 48499160 && $2 <= 48499243 { print $0; }' CLIP-let7d.pileup > CLIP-let7d-gene.pileup"
      ],
      "metadata": {
        "id": "PTOdFd0EPs9V"
      },
      "execution_count": null,
      "outputs": []
    },
    {
      "cell_type": "code",
      "source": [
        "pileup = pd.read_csv('CLIP-let7d-gene.pileup', sep='\\t', names=['chrom', 'pos', '_ref', 'count', 'basereads', 'quals'])\n",
        "pileup['clean_bases'] = pileup['basereads'].apply(lambda x: toremove.sub('', x))\n",
        "\n",
        "counts_df = pd.DataFrame(pileup['clean_bases'].apply(count_bases).tolist())\n",
        "counts_df['pos'] = pileup['pos']\n",
        "counts_df['entropy'] = counts_df.apply(shannon, axis=1)\n",
        "\n",
        "with open('CLIP-let7d.entropy.bedgraph', 'w') as f:\n",
        "    f.write('track type=bedGraph name=\"Entropy let7d\"\\n')\n",
        "    for _, row in counts_df.iterrows():\n",
        "        chrom = 'chr13'\n",
        "        f.write(f'{chrom}\\t{int(row[\"pos\"])-1}\\t{int(row[\"pos\"])}\\t{row[\"entropy\"]:.4f}\\n')\n"
      ],
      "metadata": {
        "id": "2b0rtvloPu3J"
      },
      "execution_count": null,
      "outputs": []
    },
    {
      "cell_type": "code",
      "source": [
        "from google.colab import files\n",
        "files.download('CLIP-let7d.entropy.bedgraph')"
      ],
      "metadata": {
        "id": "xlSNY-AIPwwP"
      },
      "execution_count": null,
      "outputs": []
    },
    {
      "cell_type": "code",
      "source": [
        "# basereads 컬럼에서 match 정보를 복사해서 matches 컬럼 생성\n",
        "pileup['matches'] = pileup['basereads']\n"
      ],
      "metadata": {
        "id": "hJiQatmpozOG"
      },
      "execution_count": 34,
      "outputs": []
    },
    {
      "cell_type": "code",
      "source": [
        "import pandas as pd\n",
        "import re\n",
        "\n",
        "# pileup 파일 불러오기\n",
        "pileup = pd.read_csv('CLIP-let7g-gene.pileup', sep='\\t',\n",
        "                     names=['chrom', 'pos', '_ref', 'count', 'basereads', 'quals'])\n",
        "\n",
        "# basereads 문자열에서 특수문자 제거하고 matches 컬럼으로 저장\n",
        "toremove = re.compile('[<>$*#^]')\n",
        "pileup['matches'] = pileup['basereads'].apply(lambda x: toremove.sub('', str(x)))\n",
        "\n",
        "# mismatch 비율 계산 함수 정의\n",
        "def get_mismatch_ratio(matchstring, ref):\n",
        "    matchstring = matchstring.upper()\n",
        "    total = len(matchstring)\n",
        "    mismatches = sum(1 for b in matchstring if b != ref.upper())\n",
        "    return mismatches / total if total > 0 else 0\n",
        "\n",
        "# mismatch 비율 계산\n",
        "pileup['mismatch_ratio'] = pileup.apply(\n",
        "    lambda row: get_mismatch_ratio(row['matches'], row['_ref']), axis=1)\n",
        "\n",
        "# mismatch 비율이 0.3 이상인 위치만 필터링\n",
        "cims_candidates = pileup[pileup['mismatch_ratio'] > 0.1]\n",
        "\n",
        "# 확인\n",
        "print(cims_candidates[['chrom', 'pos', 'mismatch_ratio']].head())\n"
      ],
      "metadata": {
        "colab": {
          "base_uri": "https://localhost:8080/"
        },
        "id": "fbQowTCso7Bk",
        "outputId": "e28267c0-3295-419a-c473-aa43e3030a7b"
      },
      "execution_count": 54,
      "outputs": [
        {
          "output_type": "stream",
          "name": "stdout",
          "text": [
            "   chrom        pos  mismatch_ratio\n",
            "6   chr9  106056045             1.0\n",
            "7   chr9  106056046             1.0\n",
            "8   chr9  106056047             1.0\n",
            "9   chr9  106056048             1.0\n",
            "10  chr9  106056049             1.0\n"
          ]
        }
      ]
    },
    {
      "cell_type": "code",
      "source": [
        "cims_candidates[['chrom', 'pos']].to_csv('cims_positions.txt', sep='\\t', index=False, header=False)\n",
        "\n"
      ],
      "metadata": {
        "id": "cEyRZMz9o8U3"
      },
      "execution_count": 55,
      "outputs": []
    },
    {
      "cell_type": "code",
      "source": [
        "!awk '{print $1 \"\\t\" $2-11 \"\\t\" $2+10}' cims_positions.txt > cims_flanks.bed\n"
      ],
      "metadata": {
        "id": "ylZYLsXspX9z"
      },
      "execution_count": 56,
      "outputs": []
    },
    {
      "cell_type": "code",
      "source": [
        "# 마우스 mm39 유전체 전체 FASTA 다운로드 (약 900MB)\n",
        "!wget http://hgdownload.soe.ucsc.edu/goldenPath/mm39/bigZips/mm39.fa.gz\n",
        "\n",
        "# 압축 해제\n",
        "!gunzip mm39.fa.gz\n"
      ],
      "metadata": {
        "colab": {
          "base_uri": "https://localhost:8080/"
        },
        "id": "FObq731OpyVb",
        "outputId": "63208c1c-ce79-481e-ed62-0e4902ce4fa4"
      },
      "execution_count": 44,
      "outputs": [
        {
          "output_type": "stream",
          "name": "stdout",
          "text": [
            "--2025-05-22 01:41:35--  http://hgdownload.soe.ucsc.edu/goldenPath/mm39/bigZips/mm39.fa.gz\n",
            "Resolving hgdownload.soe.ucsc.edu (hgdownload.soe.ucsc.edu)... 128.114.119.163\n",
            "Connecting to hgdownload.soe.ucsc.edu (hgdownload.soe.ucsc.edu)|128.114.119.163|:80... connected.\n",
            "HTTP request sent, awaiting response... 200 OK\n",
            "Length: 870543764 (830M) [application/x-gzip]\n",
            "Saving to: ‘mm39.fa.gz’\n",
            "\n",
            "mm39.fa.gz          100%[===================>] 830.21M  34.1MB/s    in 31s     \n",
            "\n",
            "2025-05-22 01:42:06 (27.0 MB/s) - ‘mm39.fa.gz’ saved [870543764/870543764]\n",
            "\n"
          ]
        }
      ]
    },
    {
      "cell_type": "code",
      "source": [
        "# 예: 드라이브에 저장하기 (선택 사항)\n",
        "!mv mm39.fa /content/drive/MyDrive/binfo1-work/mm39.fa"
      ],
      "metadata": {
        "colab": {
          "base_uri": "https://localhost:8080/"
        },
        "id": "ug3ElF13p03j",
        "outputId": "d4903c3e-e6fa-4345-bda0-245142bb7fe3"
      },
      "execution_count": 45,
      "outputs": [
        {
          "output_type": "stream",
          "name": "stdout",
          "text": [
            "mv: 'mm39.fa' and '/content/drive/MyDrive/binfo1-work/mm39.fa' are the same file\n"
          ]
        }
      ]
    },
    {
      "cell_type": "code",
      "source": [
        "!bedtools getfasta -fi mm39.fa -bed cims_flanks.bed -fo cims_seqs.fa\n"
      ],
      "metadata": {
        "id": "762O4G7cpbzr"
      },
      "execution_count": 57,
      "outputs": []
    },
    {
      "cell_type": "code",
      "source": [
        "!pip install weblogo biopython\n"
      ],
      "metadata": {
        "colab": {
          "base_uri": "https://localhost:8080/"
        },
        "id": "qEPo6ci-qcjr",
        "outputId": "dfa24f8d-f034-403d-8666-8d36350b8185"
      },
      "execution_count": 47,
      "outputs": [
        {
          "output_type": "stream",
          "name": "stdout",
          "text": [
            "Collecting weblogo\n",
            "  Downloading weblogo-3.7.12-py3-none-any.whl.metadata (1.6 kB)\n",
            "Collecting biopython\n",
            "  Downloading biopython-1.85-cp311-cp311-manylinux_2_17_x86_64.manylinux2014_x86_64.whl.metadata (13 kB)\n",
            "Requirement already satisfied: numpy in /usr/local/lib/python3.11/dist-packages (from weblogo) (2.0.2)\n",
            "Requirement already satisfied: scipy in /usr/local/lib/python3.11/dist-packages (from weblogo) (1.15.3)\n",
            "Requirement already satisfied: setuptools in /usr/local/lib/python3.11/dist-packages (from weblogo) (75.2.0)\n",
            "Downloading weblogo-3.7.12-py3-none-any.whl (571 kB)\n",
            "\u001b[2K   \u001b[90m━━━━━━━━━━━━━━━━━━━━━━━━━━━━━━━━━━━━━━━━\u001b[0m \u001b[32m571.7/571.7 kB\u001b[0m \u001b[31m11.2 MB/s\u001b[0m eta \u001b[36m0:00:00\u001b[0m\n",
            "\u001b[?25hDownloading biopython-1.85-cp311-cp311-manylinux_2_17_x86_64.manylinux2014_x86_64.whl (3.3 MB)\n",
            "\u001b[2K   \u001b[90m━━━━━━━━━━━━━━━━━━━━━━━━━━━━━━━━━━━━━━━━\u001b[0m \u001b[32m3.3/3.3 MB\u001b[0m \u001b[31m75.1 MB/s\u001b[0m eta \u001b[36m0:00:00\u001b[0m\n",
            "\u001b[?25hInstalling collected packages: biopython, weblogo\n",
            "Successfully installed biopython-1.85 weblogo-3.7.12\n"
          ]
        }
      ]
    },
    {
      "cell_type": "code",
      "source": [
        "from google.colab import files\n",
        "files.download('cims_seqs.fa')\n"
      ],
      "metadata": {
        "colab": {
          "base_uri": "https://localhost:8080/",
          "height": 17
        },
        "id": "5QGgCf8fqgzU",
        "outputId": "72ab181a-f98b-44cf-db3b-639a420545c6"
      },
      "execution_count": 58,
      "outputs": [
        {
          "output_type": "display_data",
          "data": {
            "text/plain": [
              "<IPython.core.display.Javascript object>"
            ],
            "application/javascript": [
              "\n",
              "    async function download(id, filename, size) {\n",
              "      if (!google.colab.kernel.accessAllowed) {\n",
              "        return;\n",
              "      }\n",
              "      const div = document.createElement('div');\n",
              "      const label = document.createElement('label');\n",
              "      label.textContent = `Downloading \"${filename}\": `;\n",
              "      div.appendChild(label);\n",
              "      const progress = document.createElement('progress');\n",
              "      progress.max = size;\n",
              "      div.appendChild(progress);\n",
              "      document.body.appendChild(div);\n",
              "\n",
              "      const buffers = [];\n",
              "      let downloaded = 0;\n",
              "\n",
              "      const channel = await google.colab.kernel.comms.open(id);\n",
              "      // Send a message to notify the kernel that we're ready.\n",
              "      channel.send({})\n",
              "\n",
              "      for await (const message of channel.messages) {\n",
              "        // Send a message to notify the kernel that we're ready.\n",
              "        channel.send({})\n",
              "        if (message.buffers) {\n",
              "          for (const buffer of message.buffers) {\n",
              "            buffers.push(buffer);\n",
              "            downloaded += buffer.byteLength;\n",
              "            progress.value = downloaded;\n",
              "          }\n",
              "        }\n",
              "      }\n",
              "      const blob = new Blob(buffers, {type: 'application/binary'});\n",
              "      const a = document.createElement('a');\n",
              "      a.href = window.URL.createObjectURL(blob);\n",
              "      a.download = filename;\n",
              "      div.appendChild(a);\n",
              "      a.click();\n",
              "      div.remove();\n",
              "    }\n",
              "  "
            ]
          },
          "metadata": {}
        },
        {
          "output_type": "display_data",
          "data": {
            "text/plain": [
              "<IPython.core.display.Javascript object>"
            ],
            "application/javascript": [
              "download(\"download_7cfded2c-2f65-4bc7-b64b-c1060b26d7c2\", \"cims_seqs.fa\", 3936)"
            ]
          },
          "metadata": {}
        }
      ]
    },
    {
      "cell_type": "code",
      "source": [
        "!grep -c \">\" cims_seqs.fa"
      ],
      "metadata": {
        "colab": {
          "base_uri": "https://localhost:8080/"
        },
        "id": "E084tokirMb8",
        "outputId": "35e07f63-d793-4422-effe-39163ea115c7"
      },
      "execution_count": 52,
      "outputs": [
        {
          "output_type": "stream",
          "name": "stdout",
          "text": [
            "82\n"
          ]
        }
      ]
    },
    {
      "cell_type": "code",
      "source": [
        "from Bio import SeqIO\n",
        "lengths = [len(record.seq) for record in SeqIO.parse(\"cims_seqs.fa\", \"fasta\")]\n",
        "print(set(lengths))"
      ],
      "metadata": {
        "colab": {
          "base_uri": "https://localhost:8080/"
        },
        "id": "R3cRZ7WerQos",
        "outputId": "d5aff53b-56ea-4780-9df7-d61dcbbf47c9"
      },
      "execution_count": 53,
      "outputs": [
        {
          "output_type": "stream",
          "name": "stdout",
          "text": [
            "{21}\n"
          ]
        }
      ]
    },
    {
      "cell_type": "code",
      "source": [
        "from Bio import SeqIO\n",
        "\n",
        "for record in SeqIO.parse(\"cims_seqs.fa\", \"fasta\"):\n",
        "    print(record.seq)\n",
        "    break  # 첫 줄만 확인 (너무 길면 이걸로 충분)"
      ],
      "metadata": {
        "colab": {
          "base_uri": "https://localhost:8080/"
        },
        "id": "Ot9JVZcCrp8X",
        "outputId": "fd54d382-c2db-47fc-fb10-7f80e52b833a"
      },
      "execution_count": 60,
      "outputs": [
        {
          "output_type": "stream",
          "name": "stdout",
          "text": [
            "GATTCCAGGCTGAGGTAGTAG\n"
          ]
        }
      ]
    },
    {
      "cell_type": "code",
      "source": [
        "from collections import Counter\n",
        "print(Counter(seqs).most_common(5))  # 가장 많은 서열 5개 출력\n"
      ],
      "metadata": {
        "colab": {
          "base_uri": "https://localhost:8080/"
        },
        "id": "fXhUdSUnr8uZ",
        "outputId": "10525182-0e54-4061-f09f-d8f0e18e6162"
      },
      "execution_count": 61,
      "outputs": [
        {
          "output_type": "stream",
          "name": "stdout",
          "text": [
            "[('GATTCCAGGCTGAGGTAGTAG', 1), ('ATTCCAGGCTGAGGTAGTAGT', 1), ('TTCCAGGCTGAGGTAGTAGTT', 1), ('TCCAGGCTGAGGTAGTAGTTT', 1), ('CCAGGCTGAGGTAGTAGTTTG', 1)]\n"
          ]
        }
      ]
    },
    {
      "cell_type": "code",
      "source": [
        "print(set(lengths))\n"
      ],
      "metadata": {
        "id": "y_OPglxTvD1V",
        "outputId": "9e81897a-62d6-4ee0-cdb7-d5e4c8992cbc",
        "colab": {
          "base_uri": "https://localhost:8080/"
        }
      },
      "execution_count": 62,
      "outputs": [
        {
          "output_type": "stream",
          "name": "stdout",
          "text": [
            "{21}\n"
          ]
        }
      ]
    },
    {
      "cell_type": "code",
      "source": [
        "!head -20 cims_seqs.fa\n"
      ],
      "metadata": {
        "id": "XrM7R3fjvZKd",
        "outputId": "5ad37ee8-156e-4bc2-cc4d-863ebcbe7a96",
        "colab": {
          "base_uri": "https://localhost:8080/"
        }
      },
      "execution_count": 65,
      "outputs": [
        {
          "output_type": "stream",
          "name": "stdout",
          "text": [
            ">chr9:106056034-106056055\n",
            "GATTCCAGGCTGAGGTAGTAG\n",
            ">chr9:106056035-106056056\n",
            "ATTCCAGGCTGAGGTAGTAGT\n",
            ">chr9:106056036-106056057\n",
            "TTCCAGGCTGAGGTAGTAGTT\n",
            ">chr9:106056037-106056058\n",
            "TCCAGGCTGAGGTAGTAGTTT\n",
            ">chr9:106056038-106056059\n",
            "CCAGGCTGAGGTAGTAGTTTG\n",
            ">chr9:106056039-106056060\n",
            "CAGGCTGAGGTAGTAGTTTGT\n",
            ">chr9:106056040-106056061\n",
            "AGGCTGAGGTAGTAGTTTGTA\n",
            ">chr9:106056041-106056062\n",
            "GGCTGAGGTAGTAGTTTGTAC\n",
            ">chr9:106056042-106056063\n",
            "GCTGAGGTAGTAGTTTGTACA\n",
            ">chr9:106056043-106056064\n",
            "CTGAGGTAGTAGTTTGTACAG\n"
          ]
        }
      ]
    },
    {
      "cell_type": "code",
      "source": [],
      "metadata": {
        "id": "2xxlH2rHvzfN"
      },
      "execution_count": null,
      "outputs": []
    }
  ],
  "metadata": {
    "colab": {
      "provenance": [],
      "authorship_tag": "ABX9TyN05/fZM91aAkJttOmC4AQJ",
      "include_colab_link": true
    },
    "kernelspec": {
      "display_name": "Python 3",
      "name": "python3"
    },
    "language_info": {
      "name": "python"
    }
  },
  "nbformat": 4,
  "nbformat_minor": 0
}